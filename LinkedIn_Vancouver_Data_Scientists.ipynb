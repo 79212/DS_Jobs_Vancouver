{
 "cells": [
  {
   "cell_type": "markdown",
   "metadata": {},
   "source": [
    "---\n",
    "title: \"Vancouver's Data Scientists\"\n",
    "output:\n",
    "  html_notebook: default\n",
    "  html_document: default\n",
    "---\n",
    "\n",
    "I'm going to try and webscrape LinkedIn for information on Vancouver's current data scientist opportunities. \n",
    "\n"
   ]
  },
  {
   "cell_type": "markdown",
   "metadata": {},
   "source": [
    "\n",
    "My original introduction into beautiful soup came from: https://www.analyticsvidhya.com/blog/2015/10/beginner-guide-web-scraping-beautiful-soup-python/\n",
    "and\n",
    "https://www.crummy.com/software/BeautifulSoup/bs4/doc/\n"
   ]
  },
  {
   "cell_type": "markdown",
   "metadata": {},
   "source": [
    "Part 1. is focused on the current job market. \n",
    "\n",
    "I am going to get a list of links for current data scientist (and related) jobs in Vancouver. \n",
    "\n",
    "Then I'll go through each job posting and extract key information. What I think this will be at the beginning is something like: title, company, when it was posted, skills. Different companies phrase these different, but there is usually a list of requirements and then bonus items (nice-to-haves). "
   ]
  },
  {
   "cell_type": "markdown",
   "metadata": {},
   "source": [
    "First, let's get the postings I'm looking for. \n",
    "\n",
    "\n",
    "I manually pull up this link using the search for \n",
    "https://www.linkedin.com/jobs/search/?keywords=data%20scientist&location=Vancouver%2C%20British%20Columbia%2C%20Canada\n",
    "\n",
    "If you inspect the link you can see the search terms I used (data scientist) and the location (Vancouver, BC).\n",
    "\n",
    "I also can see that they show about 25 posting per 'page' with future pages having the '&start=' tag at the end:\n",
    "https://www.linkedin.com/jobs/search/?keywords=data%20scientist&location=Vancouver%2C%20British%20Columbia%2C%20Canada&start=175\n",
    "\n"
   ]
  },
  {
   "cell_type": "code",
   "execution_count": null,
   "metadata": {
    "collapsed": true,
    "jupyter": {
     "outputs_hidden": true
    }
   },
   "outputs": [],
   "source": [
    "from bs4 import BeautifulSoup\n",
    "import pandas as pd\n",
    "import requests\n",
    "from urllib.request import Request, urlopen\n",
    "import time\n",
    "from selenium import webdriver\n",
    "from selenium.webdriver import Chrome\n",
    "from selenium.webdriver.common.by import By\n",
    "from selenium.webdriver.support.ui import WebDriverWait # available since 2.4.0\n",
    "from selenium.webdriver.support import expected_conditions as EC # available since 2.26.0\n",
    "import random"
   ]
  },
  {
   "cell_type": "code",
   "execution_count": null,
   "metadata": {
    "collapsed": true,
    "jupyter": {
     "outputs_hidden": true
    }
   },
   "outputs": [],
   "source": [
    "#jobs_pages\n",
    "jobs_page = \"https://www.linkedin.com/jobs/search/?keywords=data%20scientist&location=Vancouver%2C%20British%20Columbia%2C%20Canada&sortBy=DD\""
   ]
  },
  {
   "cell_type": "code",
   "execution_count": null,
   "metadata": {
    "collapsed": true,
    "jupyter": {
     "outputs_hidden": true
    }
   },
   "outputs": [],
   "source": [
    "job_urls = [] #Create empty list to store each job url in\n",
    "driver = Chrome() #Set up a chrome driver (opens a browser that is controlled remotely)\n",
    "driver.get(jobs_page) \n",
    "time.sleep(3) #Allows job page to load\n",
    "more_jobs_path = '/html/body/main/section[1]/button' #There is a button at the bottom of the screen that 'loads more jobs'\n",
    "for i in range(1,6):\n",
    "    #print(i) #I like to print outputs in these loops to make sure everything is still running\n",
    "    try:\n",
    "        element = WebDriverWait(driver, 3).until(EC.presence_of_element_located((By.XPATH, more_jobs_path)))\n",
    "        jobs_button = driver.find_elements_by_xpath(more_jobs_path)[0]\n",
    "        jobs_button.click()\n",
    "        time.sleep(3) #Allows job page to load after pressing the button\n",
    "    except:\n",
    "        pass\n",
    "    print(\"No more buttons to push\") #When there are no more jobs to load, we have the full list of jobs loaded\n",
    "mydivs = driver.find_elements_by_class_name(\"result-card__full-card-link\") #This is the class name that has each individual job posting\n",
    "for div in mydivs:\n",
    "    job_url = div.get_attribute(\"href\")\n",
    "    job_urls.append(job_url) #add each job url to the list I created at the beginning. \n",
    "    #print(job_url) "
   ]
  },
  {
   "cell_type": "code",
   "execution_count": 1,
   "metadata": {
    "jupyter": {
     "outputs_hidden": true
    }
   },
   "outputs": [
    {
     "ename": "NameError",
     "evalue": "name 'job_urls' is not defined",
     "output_type": "error",
     "traceback": [
      "\u001b[0;31m---------------------------------------------------------------------------\u001b[0m",
      "\u001b[0;31mNameError\u001b[0m                                 Traceback (most recent call last)",
      "\u001b[0;32m<ipython-input-1-b7631b05ab7f>\u001b[0m in \u001b[0;36m<module>\u001b[0;34m()\u001b[0m\n\u001b[0;32m----> 1\u001b[0;31m \u001b[0mlen\u001b[0m\u001b[0;34m(\u001b[0m\u001b[0mjob_urls\u001b[0m\u001b[0;34m)\u001b[0m \u001b[0;31m#How many jobs do we have here?\u001b[0m\u001b[0;34m\u001b[0m\u001b[0m\n\u001b[0m",
      "\u001b[0;31mNameError\u001b[0m: name 'job_urls' is not defined"
     ]
    }
   ],
   "source": [
    "len(job_urls) #How many jobs do we have here?\n"
   ]
  },
  {
   "cell_type": "markdown",
   "metadata": {},
   "source": [
    "Often the information is stored in bulleted lists (\\< li >), but in this first page we can see that there is a bulleted list for 'Essential skills' and 'Assets'. \n",
    "\n",
    "While it might be messier, I might have to grab all the description information (\\< section class=\"description\" >) for each page and sift through later. \n"
   ]
  },
  {
   "cell_type": "code",
   "execution_count": null,
   "metadata": {
    "collapsed": true,
    "jupyter": {
     "outputs_hidden": true
    }
   },
   "outputs": [],
   "source": [
    "#company_result = soup.find_all(\"a\", class_=\"topcard__org-name-link\")\n",
    "\n",
    "#company = str(company_result)\n",
    "#company = company.split(\">\")[1]\n",
    "#company = company.split(\"<\")[0]\n",
    "\n",
    "#I realized I should write a function for this instead of copy and pasting. \n",
    "\n",
    "def return_string(soup_result):\n",
    "    text = str(soup_result)\n",
    "    text = text.split(\">\")[1]\n",
    "    text = text.split(\"<\")[0]\n",
    "    return(text)\n",
    "\n",
    "#return_string(company_result)\n",
    "#return_string(title_result)\n"
   ]
  },
  {
   "cell_type": "code",
   "execution_count": null,
   "metadata": {
    "collapsed": true,
    "jupyter": {
     "outputs_hidden": true
    }
   },
   "outputs": [],
   "source": [
    "#clean description\n",
    "#After looking at it, there's going to be so much variability between them that this'll be a challenge. \n",
    "import re\n",
    "def clean_description(description_result):\n",
    "    description_text = str(description_result)\n",
    "    description_text = re.sub('<[^<]+?>',\" \", description_text)\n",
    "    description_text = re.sub('  ',\" \", description_text)\n",
    "    return(description_text)\n",
    "\n",
    "\n"
   ]
  },
  {
   "cell_type": "code",
   "execution_count": null,
   "metadata": {
    "collapsed": true,
    "jupyter": {
     "outputs_hidden": true
    }
   },
   "outputs": [],
   "source": [
    "job_output = [] #Blank list that stores each job result\n",
    "for job_url in job_urls:\n",
    "    #print(job_url) #You can uncomment this if you want to make sure it is progressing through the web pages\n",
    "    \n",
    "    time.sleep(random.randint(10,100)/100) #I generally put in a random time-delay to not overload servers and not get banned\n",
    "    try: \n",
    "        req = Request(job_url, headers= {'User-Agent': 'Mozilla/5.0'})\n",
    "        page = urlopen(req).read()\n",
    "        soup = BeautifulSoup(page, \"html.parser\") #I use a beautiful soup parser this time, because I find it easier to work with the results\n",
    "        \n",
    "        #Get raw results\n",
    "        title_result = soup.find_all(\"h1\")\n",
    "        company_result = soup.find_all(\"a\", class_=\"topcard__org-name-link\")\n",
    "        description_result = soup.find_all(\"section\", class_=\"description\")\n",
    "        \n",
    "        #Clean results using functions I created above\n",
    "        title = return_string(title_result)\n",
    "        company = return_string(company_result)\n",
    "        description = clean_description(description_result)\n",
    "        \n",
    "        #Compile results into dictionary\n",
    "        job_info = {\n",
    "            'title': title,\n",
    "            'company': company,\n",
    "            'url' : job_url,\n",
    "            'description' : description,\n",
    "            'description_raw': str(description_result)\n",
    "        }\n",
    "        \n",
    "        #Delete results after storing in dictionary so they are not re-used between job postings.\n",
    "        del description_result \n",
    "        del title_result\n",
    "        del company_result\n",
    "        \n",
    "        #Append dictionary to list\n",
    "        job_output.append(job_info)\n",
    "    except:\n",
    "        pass"
   ]
  },
  {
   "cell_type": "code",
   "execution_count": null,
   "metadata": {
    "collapsed": true,
    "jupyter": {
     "outputs_hidden": true
    }
   },
   "outputs": [],
   "source": [
    "#job_output #Very long text! "
   ]
  },
  {
   "cell_type": "markdown",
   "metadata": {},
   "source": [
    "Let's see what our data looks like \n"
   ]
  },
  {
   "cell_type": "code",
   "execution_count": null,
   "metadata": {
    "collapsed": true,
    "jupyter": {
     "outputs_hidden": true
    },
    "scrolled": true
   },
   "outputs": [],
   "source": [
    "#job_output\n",
    "\n",
    "jobs_df = pd.DataFrame(job_output)\n",
    "jobs_df = jobs_df.sort_values(\"company\")\n",
    "#jobs_df[\"description\"] = str(jobs_df[\"description\"])\n",
    "jobs_df[\"description\"] = jobs_df[\"description\"].astype(str) \n",
    "#del jobs_df[\"url\"]\n",
    "jobs_df = jobs_df.drop_duplicates()\n",
    "\n",
    "#jobs_df[\"description\"]"
   ]
  },
  {
   "cell_type": "code",
   "execution_count": null,
   "metadata": {
    "collapsed": true,
    "jupyter": {
     "outputs_hidden": true
    }
   },
   "outputs": [],
   "source": [
    "#Write results:\n",
    "jobs_df.to_csv(\"linkedin_data.csv\", index=False)\n",
    "\n",
    "#I write the results to a file to a) store the data, and b) be able to pick up here for working on this later"
   ]
  },
  {
   "cell_type": "markdown",
   "metadata": {},
   "source": [
    "Alright, we've got our dataset of jobs with the rough description text. \n",
    "\n",
    "I reload these packages here so I can work from the 'finished' version, and don't have to webscrape everytime I want to update the analysis \n"
   ]
  },
  {
   "cell_type": "code",
   "execution_count": 1,
   "metadata": {
    "collapsed": true,
    "jupyter": {
     "outputs_hidden": true
    }
   },
   "outputs": [],
   "source": [
    "\n",
    "import pandas as pd\n",
    "import numpy as np\n",
    "jobs_df = pd.read_csv(\"linkedin_data.csv\")\n",
    "#jobs_df"
   ]
  },
  {
   "cell_type": "markdown",
   "metadata": {},
   "source": [
    "Some of the most important parts I'd like to get out are the frequency of skills in the 'Requirements' and 'Assets' lists in each job posting. Unfortunately, they all use different language for these. I'm going to try and write a function that returns all the list entries after an initial word and stores the entries and the starting word for a job_id. \n"
   ]
  },
  {
   "cell_type": "code",
   "execution_count": 2,
   "metadata": {
    "collapsed": true,
    "jupyter": {
     "outputs_hidden": true
    }
   },
   "outputs": [],
   "source": [
    "#list_starters = [\"Required Skills And Experience\", \"Must have\", \"Qualifications\"]\n",
    "\n",
    "requirements = [\"Qualifications\", \"Requirements\", \"Required Skills And Experience\", \"Background\", \"background includes\",  \"Skills\", \"Needs\", \"Basic Qualifications\", \"Must Have\"]\n",
    "responsibilities = [\"Responsibilities\", \"Your Role Is To\", \"What’s the job?\"]\n",
    "assets = [\"Assets\", \"Additional skills\", \"Charm Us With\", \"Preferred Qualifications\", \"Additional\", \"Bonus\", \"we'd love to see you have\"]\n",
    "\n",
    "\n",
    "false_list = [False] * len(requirements)\n"
   ]
  },
  {
   "cell_type": "code",
   "execution_count": 3,
   "metadata": {
    "collapsed": true,
    "jupyter": {
     "outputs_hidden": true
    }
   },
   "outputs": [],
   "source": [
    "#example_text = jobs_df.iloc[1,3]\n",
    "#example_text\n",
    "\n",
    "def remove_escape_chars(text):\n",
    "        text = text.replace(\"-\", \"\")\n",
    "        text = text.replace(\"[\", \"\")\n",
    "        text = text.replace(\"{\", \"\")\n",
    "        text = text.replace(\"(\", \"\")\n",
    "        return(text)\n",
    "\n",
    "#return_list function returns the list that follows a certain word. \n",
    "#Job description often have list sections (e.g., Requirements: list)\n",
    "def return_list(text, list_starters):\n",
    "    jobs_quals = []\n",
    "    \n",
    "    text = text.lower()\n",
    "    list_starters = [x.lower() for x in list_starters]\n",
    "    \n",
    "    split_list = text.split(\"<li>\") #Split each list element into its own text.\n",
    "    text = remove_escape_chars(text)\n",
    "    text = remove_escape_chars(text)#Need to run twice because of \"--\"\n",
    "    false_list = [False] * len(list_starters)\n",
    "    for i in range(0,len(split_list)):\n",
    "        text = split_list[i]\n",
    "        if [x in text for x in list_starters] != false_list:\n",
    "            y = [x in text for x in list_starters]\n",
    "            #print(y)\n",
    "            list_starter = np.array(list_starters)[np.array(y)]\n",
    "            list_starter = str(list_starter[0])\n",
    "            \n",
    "            #Create a list and store each 'qualification' in it\n",
    "            job_quals = []\n",
    "            for n in range(i+1, len(split_list)):           \n",
    "                if \"</li>\" in split_list[n]:\n",
    "                    qual = split_list[n]\n",
    "                    qual = qual.split(\"</li>\")[0]\n",
    "                    job_quals.append(qual)\n",
    "                    #print(\"List item\")\n",
    "            #Define output as a dictionary with the qualification type and the qualifications\n",
    "            job_dict = {list_starter : job_quals}\n",
    "            jobs_quals.append(job_dict)\n",
    "    return(jobs_quals)\n",
    "    \n",
    "\n",
    "#return_list(example_text, list_starters=requirements)"
   ]
  },
  {
   "cell_type": "code",
   "execution_count": 4,
   "metadata": {
    "collapsed": true,
    "jupyter": {
     "outputs_hidden": true
    },
    "scrolled": true
   },
   "outputs": [],
   "source": [
    "jobs_df[\"Requirements\"] = jobs_df[\"description_raw\"].apply(return_list, list_starters=requirements)\n",
    "jobs_df[\"Responsibilities\"] = jobs_df[\"description_raw\"].apply(return_list, list_starters=responsibilities)\n",
    "jobs_df[\"Assets\"] = jobs_df[\"description_raw\"].apply(return_list, list_starters=assets)\n",
    "\n",
    "jobs_df[\"Requirements\"].astype(str).str.find(\"qualifications\")\n",
    "\n",
    "#jobs_df\n",
    "for n in range(1, len(jobs_df)):\n",
    "    if len(jobs_df.loc[n, \"Requirements\"]) > 0:        \n",
    "        if len(jobs_df.loc[n, \"Assets\"]) > 0:\n",
    "            for i in range(0, len(jobs_df.loc[n, \"Requirements\"])):\n",
    "                req_dict = jobs_df.loc[n, \"Requirements\"][i].values()\n",
    "                for x in range(0, len(jobs_df.loc[n, \"Assets\"])):\n",
    "                    asset_dict = jobs_df.loc[n, \"Assets\"][x].values()\n",
    "                    if asset_dict==req_dict:\n",
    "                        print(\"1\")\n",
    "            \n",
    "                \n",
    "    \n"
   ]
  },
  {
   "cell_type": "markdown",
   "metadata": {},
   "source": [
    "Extract information from these:\n"
   ]
  },
  {
   "cell_type": "code",
   "execution_count": 5,
   "metadata": {
    "collapsed": true,
    "jupyter": {
     "outputs_hidden": true
    }
   },
   "outputs": [],
   "source": [
    "jobs_df[\"Requirements\"] = jobs_df[\"Requirements\"].astype(str) \n",
    "jobs_df[\"Requirements\"] = jobs_df[\"Requirements\"].str.lower()\n",
    "jobs_df[\"Assets\"] = jobs_df[\"Assets\"].astype(str) \n",
    "jobs_df[\"Assets\"] = jobs_df[\"Assets\"].str.lower()\n",
    "jobs_df[\"Responsibilities\"] = jobs_df[\"Responsibilities\"].astype(str) \n",
    "jobs_df[\"Responsibilities\"] = jobs_df[\"Responsibilities\"].str.lower()\n"
   ]
  },
  {
   "cell_type": "code",
   "execution_count": 6,
   "metadata": {},
   "outputs": [
    {
     "name": "stderr",
     "output_type": "stream",
     "text": [
      "/Users/Tim/anaconda3/lib/python3.6/site-packages/pandas/core/indexing.py:205: SettingWithCopyWarning: \n",
      "A value is trying to be set on a copy of a slice from a DataFrame\n",
      "\n",
      "See the caveats in the documentation: http://pandas.pydata.org/pandas-docs/stable/user_guide/indexing.html#returning-a-view-versus-a-copy\n",
      "  self._setitem_with_indexer(indexer, value)\n"
     ]
    }
   ],
   "source": [
    "def job_attribute(df, colname, search_column, search_string=None):\n",
    "    z = pd.Series(0, index=jobs_df.index)\n",
    "    if search_string==None:\n",
    "        search_string = colname\n",
    "    if type(search_string)==str:\n",
    "        z = jobs_df[search_column].str.find(search_string)\n",
    "    if type(search_string)==list:\n",
    "        for x in search_string:    \n",
    "            y = jobs_df[search_column].str.find(x)\n",
    "            z = z + y\n",
    "    df[colname] = z  \n",
    "    del z \n",
    "    df[colname] = df[colname].apply(lambda x: 1 if x >0 else 0)\n",
    "    return(df)\n",
    "\n",
    "jobs_df[\"All\"] = jobs_df[\"Requirements\"].astype(str)  + jobs_df[\"Assets\"].astype(str) \n",
    "\n",
    "jobs_df[\"All\"] = jobs_df[\"All\"].str.lower()\n",
    "\n",
    "#simple searches just use the lower case text to search. Must be fairly unique\n",
    "simple_searches = [\"bigquery\", \"python\", \"sql\", \"jira\", \"tableau\", \"docker\", \"scala\", \"java\", \"spark\", \"hadoop\",\n",
    "                  \"statistics\", \"nlp\", \"cnn\", \"rnn\", \"programming\"]\n",
    "cols = [\"Requirements\", \"Assets\"]\n",
    "\n",
    "for col in cols:\n",
    "    for search in simple_searches:\n",
    "        job_attribute(df=jobs_df, colname=search+\"_\"+col, search_string=search, search_column=col)\n",
    "\n",
    "#Complex searches wouldn't necessarily work, and would return a lot of false positives \n",
    "#E.g., 'r' would return every posting that has an 'r' in it. \n",
    "complex_searches = {\n",
    "    \"R\": [\" r,\", \" R or\"],\n",
    "    \"bachelor\" : [\"bachelor\", \"bs/ms\"],\n",
    "    \"master\" : [\"master\", \"bs/ms\", \" ms \", \"graduate degree\"],\n",
    "    \"phd\" : [\"phd\",\"ph\\.d\" \"graduate degree\"],\n",
    "    \"C\":  [\"c\\+\", \"c\\+\\+\", \"c#\"],\n",
    "    \"ML\": [\" ml\", \"machine learning\"],\n",
    "    \"CS\":  [\"computer science\", \" cs\"],\n",
    "    \"SAS\": [\" sas \", \" sas,\", \" sas\\.\"],\n",
    "    \"AI\": [\" ai \", \" ai,\", \"ai \"]\n",
    "}\n",
    "\n",
    "#This for loop goes through each of the complex searches dictionary items \n",
    "#It creates a column based on the dictionary key, and uses the values as the search string\n",
    "for col in cols:\n",
    "    for search in complex_searches:\n",
    "        job_attribute(df=jobs_df, colname=search+\"_\"+col, search_string=complex_searches[search], search_column=col)\n",
    "\n",
    "#I have to clean the data for where a masters or phd degree appears in both the requirements and assets\n",
    "jobs_df[\"master_Assets\"].loc[jobs_df[\"master_Requirements\"]==1] = 0\n",
    "jobs_df[\"phd_Assets\"].loc[jobs_df[\"phd_Requirements\"]==1] = 0\n",
    "\n",
    "\n",
    "#jobs_df[\"graduate_edu_all\"] = 0 \n",
    "#jobs_df[\"graduate_edu_all\"].loc[jobs_df[\"master_all\"]==1] = 1\n",
    "#jobs_df[\"graduate_edu_all\"].loc[jobs_df[\"phd_all\"]==1] = 1\n",
    "\n",
    "#Then I want to look at posting that require and graduate education or any university education\n",
    "jobs_df[\"graduateEducation_Requirements\"] = 0 \n",
    "jobs_df[\"graduateEducation_Requirements\"].loc[jobs_df[\"master_Requirements\"]==1] = 1\n",
    "jobs_df[\"graduateEducation_Requirements\"].loc[jobs_df[\"phd_Requirements\"]==1] = 1\n",
    "\n",
    "jobs_df[\"university_Requirements\"] = 0 \n",
    "jobs_df[\"university_Requirements\"].loc[jobs_df[\"master_Requirements\"]==1] = 1\n",
    "jobs_df[\"university_Requirements\"].loc[jobs_df[\"phd_Requirements\"]==1] = 1\n",
    "jobs_df[\"university_Requirements\"].loc[jobs_df[\"bachelor_Requirements\"]==1] = 1\n",
    "\n",
    "#jobs_df"
   ]
  },
  {
   "cell_type": "code",
   "execution_count": 7,
   "metadata": {},
   "outputs": [
    {
     "data": {
      "text/html": [
       "<div>\n",
       "<style scoped>\n",
       "    .dataframe tbody tr th:only-of-type {\n",
       "        vertical-align: middle;\n",
       "    }\n",
       "\n",
       "    .dataframe tbody tr th {\n",
       "        vertical-align: top;\n",
       "    }\n",
       "\n",
       "    .dataframe thead th {\n",
       "        text-align: right;\n",
       "    }\n",
       "</style>\n",
       "<table border=\"1\" class=\"dataframe\">\n",
       "  <thead>\n",
       "    <tr style=\"text-align: right;\">\n",
       "      <th></th>\n",
       "      <th>variable</th>\n",
       "      <th>value</th>\n",
       "      <th>attribute</th>\n",
       "      <th>type</th>\n",
       "    </tr>\n",
       "  </thead>\n",
       "  <tbody>\n",
       "    <tr>\n",
       "      <td>0</td>\n",
       "      <td>AI_Assets</td>\n",
       "      <td>2</td>\n",
       "      <td>AI</td>\n",
       "      <td>Assets</td>\n",
       "    </tr>\n",
       "    <tr>\n",
       "      <td>1</td>\n",
       "      <td>AI_Requirements</td>\n",
       "      <td>4</td>\n",
       "      <td>AI</td>\n",
       "      <td>Requirements</td>\n",
       "    </tr>\n",
       "    <tr>\n",
       "      <td>2</td>\n",
       "      <td>CS_Assets</td>\n",
       "      <td>8</td>\n",
       "      <td>CS</td>\n",
       "      <td>Assets</td>\n",
       "    </tr>\n",
       "    <tr>\n",
       "      <td>3</td>\n",
       "      <td>CS_Requirements</td>\n",
       "      <td>37</td>\n",
       "      <td>CS</td>\n",
       "      <td>Requirements</td>\n",
       "    </tr>\n",
       "    <tr>\n",
       "      <td>4</td>\n",
       "      <td>C_Assets</td>\n",
       "      <td>1</td>\n",
       "      <td>C</td>\n",
       "      <td>Assets</td>\n",
       "    </tr>\n",
       "    <tr>\n",
       "      <td>5</td>\n",
       "      <td>C_Requirements</td>\n",
       "      <td>4</td>\n",
       "      <td>C</td>\n",
       "      <td>Requirements</td>\n",
       "    </tr>\n",
       "    <tr>\n",
       "      <td>6</td>\n",
       "      <td>ML_Assets</td>\n",
       "      <td>12</td>\n",
       "      <td>ML</td>\n",
       "      <td>Assets</td>\n",
       "    </tr>\n",
       "    <tr>\n",
       "      <td>7</td>\n",
       "      <td>ML_Requirements</td>\n",
       "      <td>32</td>\n",
       "      <td>ML</td>\n",
       "      <td>Requirements</td>\n",
       "    </tr>\n",
       "    <tr>\n",
       "      <td>8</td>\n",
       "      <td>R_Assets</td>\n",
       "      <td>4</td>\n",
       "      <td>R</td>\n",
       "      <td>Assets</td>\n",
       "    </tr>\n",
       "    <tr>\n",
       "      <td>9</td>\n",
       "      <td>R_Requirements</td>\n",
       "      <td>15</td>\n",
       "      <td>R</td>\n",
       "      <td>Requirements</td>\n",
       "    </tr>\n",
       "    <tr>\n",
       "      <td>10</td>\n",
       "      <td>SAS_Assets</td>\n",
       "      <td>2</td>\n",
       "      <td>SAS</td>\n",
       "      <td>Assets</td>\n",
       "    </tr>\n",
       "    <tr>\n",
       "      <td>11</td>\n",
       "      <td>SAS_Requirements</td>\n",
       "      <td>10</td>\n",
       "      <td>SAS</td>\n",
       "      <td>Requirements</td>\n",
       "    </tr>\n",
       "    <tr>\n",
       "      <td>12</td>\n",
       "      <td>bachelor_Assets</td>\n",
       "      <td>6</td>\n",
       "      <td>bachelor</td>\n",
       "      <td>Assets</td>\n",
       "    </tr>\n",
       "    <tr>\n",
       "      <td>13</td>\n",
       "      <td>bachelor_Requirements</td>\n",
       "      <td>26</td>\n",
       "      <td>bachelor</td>\n",
       "      <td>Requirements</td>\n",
       "    </tr>\n",
       "    <tr>\n",
       "      <td>14</td>\n",
       "      <td>bigquery_Assets</td>\n",
       "      <td>3</td>\n",
       "      <td>bigquery</td>\n",
       "      <td>Assets</td>\n",
       "    </tr>\n",
       "    <tr>\n",
       "      <td>15</td>\n",
       "      <td>cnn_Assets</td>\n",
       "      <td>1</td>\n",
       "      <td>cnn</td>\n",
       "      <td>Assets</td>\n",
       "    </tr>\n",
       "    <tr>\n",
       "      <td>16</td>\n",
       "      <td>cnn_Requirements</td>\n",
       "      <td>1</td>\n",
       "      <td>cnn</td>\n",
       "      <td>Requirements</td>\n",
       "    </tr>\n",
       "    <tr>\n",
       "      <td>17</td>\n",
       "      <td>docker_Assets</td>\n",
       "      <td>1</td>\n",
       "      <td>docker</td>\n",
       "      <td>Assets</td>\n",
       "    </tr>\n",
       "    <tr>\n",
       "      <td>18</td>\n",
       "      <td>docker_Requirements</td>\n",
       "      <td>4</td>\n",
       "      <td>docker</td>\n",
       "      <td>Requirements</td>\n",
       "    </tr>\n",
       "    <tr>\n",
       "      <td>19</td>\n",
       "      <td>graduateEducation_Requirements</td>\n",
       "      <td>33</td>\n",
       "      <td>graduateEducation</td>\n",
       "      <td>Requirements</td>\n",
       "    </tr>\n",
       "    <tr>\n",
       "      <td>20</td>\n",
       "      <td>hadoop_Assets</td>\n",
       "      <td>3</td>\n",
       "      <td>hadoop</td>\n",
       "      <td>Assets</td>\n",
       "    </tr>\n",
       "    <tr>\n",
       "      <td>21</td>\n",
       "      <td>hadoop_Requirements</td>\n",
       "      <td>19</td>\n",
       "      <td>hadoop</td>\n",
       "      <td>Requirements</td>\n",
       "    </tr>\n",
       "    <tr>\n",
       "      <td>22</td>\n",
       "      <td>java_Assets</td>\n",
       "      <td>2</td>\n",
       "      <td>java</td>\n",
       "      <td>Assets</td>\n",
       "    </tr>\n",
       "    <tr>\n",
       "      <td>23</td>\n",
       "      <td>java_Requirements</td>\n",
       "      <td>17</td>\n",
       "      <td>java</td>\n",
       "      <td>Requirements</td>\n",
       "    </tr>\n",
       "    <tr>\n",
       "      <td>24</td>\n",
       "      <td>jira_Assets</td>\n",
       "      <td>2</td>\n",
       "      <td>jira</td>\n",
       "      <td>Assets</td>\n",
       "    </tr>\n",
       "    <tr>\n",
       "      <td>25</td>\n",
       "      <td>jira_Requirements</td>\n",
       "      <td>9</td>\n",
       "      <td>jira</td>\n",
       "      <td>Requirements</td>\n",
       "    </tr>\n",
       "    <tr>\n",
       "      <td>26</td>\n",
       "      <td>master_Assets</td>\n",
       "      <td>2</td>\n",
       "      <td>master</td>\n",
       "      <td>Assets</td>\n",
       "    </tr>\n",
       "    <tr>\n",
       "      <td>27</td>\n",
       "      <td>master_Requirements</td>\n",
       "      <td>29</td>\n",
       "      <td>master</td>\n",
       "      <td>Requirements</td>\n",
       "    </tr>\n",
       "    <tr>\n",
       "      <td>28</td>\n",
       "      <td>nlp_Assets</td>\n",
       "      <td>2</td>\n",
       "      <td>nlp</td>\n",
       "      <td>Assets</td>\n",
       "    </tr>\n",
       "    <tr>\n",
       "      <td>29</td>\n",
       "      <td>nlp_Requirements</td>\n",
       "      <td>7</td>\n",
       "      <td>nlp</td>\n",
       "      <td>Requirements</td>\n",
       "    </tr>\n",
       "    <tr>\n",
       "      <td>30</td>\n",
       "      <td>phd_Assets</td>\n",
       "      <td>1</td>\n",
       "      <td>phd</td>\n",
       "      <td>Assets</td>\n",
       "    </tr>\n",
       "    <tr>\n",
       "      <td>31</td>\n",
       "      <td>phd_Requirements</td>\n",
       "      <td>11</td>\n",
       "      <td>phd</td>\n",
       "      <td>Requirements</td>\n",
       "    </tr>\n",
       "    <tr>\n",
       "      <td>32</td>\n",
       "      <td>programming_Assets</td>\n",
       "      <td>3</td>\n",
       "      <td>programming</td>\n",
       "      <td>Assets</td>\n",
       "    </tr>\n",
       "    <tr>\n",
       "      <td>33</td>\n",
       "      <td>programming_Requirements</td>\n",
       "      <td>25</td>\n",
       "      <td>programming</td>\n",
       "      <td>Requirements</td>\n",
       "    </tr>\n",
       "    <tr>\n",
       "      <td>34</td>\n",
       "      <td>python_Assets</td>\n",
       "      <td>7</td>\n",
       "      <td>python</td>\n",
       "      <td>Assets</td>\n",
       "    </tr>\n",
       "    <tr>\n",
       "      <td>35</td>\n",
       "      <td>python_Requirements</td>\n",
       "      <td>47</td>\n",
       "      <td>python</td>\n",
       "      <td>Requirements</td>\n",
       "    </tr>\n",
       "    <tr>\n",
       "      <td>36</td>\n",
       "      <td>rnn_Assets</td>\n",
       "      <td>1</td>\n",
       "      <td>rnn</td>\n",
       "      <td>Assets</td>\n",
       "    </tr>\n",
       "    <tr>\n",
       "      <td>37</td>\n",
       "      <td>rnn_Requirements</td>\n",
       "      <td>1</td>\n",
       "      <td>rnn</td>\n",
       "      <td>Requirements</td>\n",
       "    </tr>\n",
       "    <tr>\n",
       "      <td>38</td>\n",
       "      <td>scala_Assets</td>\n",
       "      <td>5</td>\n",
       "      <td>scala</td>\n",
       "      <td>Assets</td>\n",
       "    </tr>\n",
       "    <tr>\n",
       "      <td>39</td>\n",
       "      <td>scala_Requirements</td>\n",
       "      <td>14</td>\n",
       "      <td>scala</td>\n",
       "      <td>Requirements</td>\n",
       "    </tr>\n",
       "    <tr>\n",
       "      <td>40</td>\n",
       "      <td>spark_Assets</td>\n",
       "      <td>5</td>\n",
       "      <td>spark</td>\n",
       "      <td>Assets</td>\n",
       "    </tr>\n",
       "    <tr>\n",
       "      <td>41</td>\n",
       "      <td>spark_Requirements</td>\n",
       "      <td>23</td>\n",
       "      <td>spark</td>\n",
       "      <td>Requirements</td>\n",
       "    </tr>\n",
       "    <tr>\n",
       "      <td>42</td>\n",
       "      <td>sql_Assets</td>\n",
       "      <td>10</td>\n",
       "      <td>sql</td>\n",
       "      <td>Assets</td>\n",
       "    </tr>\n",
       "    <tr>\n",
       "      <td>43</td>\n",
       "      <td>sql_Requirements</td>\n",
       "      <td>54</td>\n",
       "      <td>sql</td>\n",
       "      <td>Requirements</td>\n",
       "    </tr>\n",
       "    <tr>\n",
       "      <td>44</td>\n",
       "      <td>statistics_Assets</td>\n",
       "      <td>13</td>\n",
       "      <td>statistics</td>\n",
       "      <td>Assets</td>\n",
       "    </tr>\n",
       "    <tr>\n",
       "      <td>45</td>\n",
       "      <td>statistics_Requirements</td>\n",
       "      <td>33</td>\n",
       "      <td>statistics</td>\n",
       "      <td>Requirements</td>\n",
       "    </tr>\n",
       "    <tr>\n",
       "      <td>46</td>\n",
       "      <td>tableau_Assets</td>\n",
       "      <td>6</td>\n",
       "      <td>tableau</td>\n",
       "      <td>Assets</td>\n",
       "    </tr>\n",
       "    <tr>\n",
       "      <td>47</td>\n",
       "      <td>tableau_Requirements</td>\n",
       "      <td>25</td>\n",
       "      <td>tableau</td>\n",
       "      <td>Requirements</td>\n",
       "    </tr>\n",
       "    <tr>\n",
       "      <td>48</td>\n",
       "      <td>university_Requirements</td>\n",
       "      <td>49</td>\n",
       "      <td>university</td>\n",
       "      <td>Requirements</td>\n",
       "    </tr>\n",
       "  </tbody>\n",
       "</table>\n",
       "</div>"
      ],
      "text/plain": [
       "                          variable  value          attribute          type\n",
       "0                        AI_Assets      2                 AI        Assets\n",
       "1                  AI_Requirements      4                 AI  Requirements\n",
       "2                        CS_Assets      8                 CS        Assets\n",
       "3                  CS_Requirements     37                 CS  Requirements\n",
       "4                         C_Assets      1                  C        Assets\n",
       "5                   C_Requirements      4                  C  Requirements\n",
       "6                        ML_Assets     12                 ML        Assets\n",
       "7                  ML_Requirements     32                 ML  Requirements\n",
       "8                         R_Assets      4                  R        Assets\n",
       "9                   R_Requirements     15                  R  Requirements\n",
       "10                      SAS_Assets      2                SAS        Assets\n",
       "11                SAS_Requirements     10                SAS  Requirements\n",
       "12                 bachelor_Assets      6           bachelor        Assets\n",
       "13           bachelor_Requirements     26           bachelor  Requirements\n",
       "14                 bigquery_Assets      3           bigquery        Assets\n",
       "15                      cnn_Assets      1                cnn        Assets\n",
       "16                cnn_Requirements      1                cnn  Requirements\n",
       "17                   docker_Assets      1             docker        Assets\n",
       "18             docker_Requirements      4             docker  Requirements\n",
       "19  graduateEducation_Requirements     33  graduateEducation  Requirements\n",
       "20                   hadoop_Assets      3             hadoop        Assets\n",
       "21             hadoop_Requirements     19             hadoop  Requirements\n",
       "22                     java_Assets      2               java        Assets\n",
       "23               java_Requirements     17               java  Requirements\n",
       "24                     jira_Assets      2               jira        Assets\n",
       "25               jira_Requirements      9               jira  Requirements\n",
       "26                   master_Assets      2             master        Assets\n",
       "27             master_Requirements     29             master  Requirements\n",
       "28                      nlp_Assets      2                nlp        Assets\n",
       "29                nlp_Requirements      7                nlp  Requirements\n",
       "30                      phd_Assets      1                phd        Assets\n",
       "31                phd_Requirements     11                phd  Requirements\n",
       "32              programming_Assets      3        programming        Assets\n",
       "33        programming_Requirements     25        programming  Requirements\n",
       "34                   python_Assets      7             python        Assets\n",
       "35             python_Requirements     47             python  Requirements\n",
       "36                      rnn_Assets      1                rnn        Assets\n",
       "37                rnn_Requirements      1                rnn  Requirements\n",
       "38                    scala_Assets      5              scala        Assets\n",
       "39              scala_Requirements     14              scala  Requirements\n",
       "40                    spark_Assets      5              spark        Assets\n",
       "41              spark_Requirements     23              spark  Requirements\n",
       "42                      sql_Assets     10                sql        Assets\n",
       "43                sql_Requirements     54                sql  Requirements\n",
       "44               statistics_Assets     13         statistics        Assets\n",
       "45         statistics_Requirements     33         statistics  Requirements\n",
       "46                  tableau_Assets      6            tableau        Assets\n",
       "47            tableau_Requirements     25            tableau  Requirements\n",
       "48         university_Requirements     49         university  Requirements"
      ]
     },
     "execution_count": 7,
     "metadata": {},
     "output_type": "execute_result"
    }
   ],
   "source": [
    "skills_summary = jobs_df.iloc[:, 10:len(jobs_df.columns)]\n",
    "skills_summary = skills_summary.melt()\n",
    "skills_summary = skills_summary.groupby('variable', as_index=False).sum()\n",
    "\n",
    "skills_summary_df = pd.DataFrame(skills_summary)\n",
    "\n",
    "skills_summary_df[\"variable\"] = skills_summary_df[\"variable\"].astype(str)\n",
    "new_col = skills_summary_df[\"variable\"].str.split(pat='_', expand=True)\n",
    "skills_summary_df[\"attribute\"] = new_col[0]\n",
    "skills_summary_df[\"type\"] = new_col[1]\n",
    "\n",
    "#skills_summary_df.columns = [\"variable\", \"value\"]\n",
    "\n",
    "\n",
    "skills_summary_df"
   ]
  },
  {
   "cell_type": "code",
   "execution_count": 8,
   "metadata": {},
   "outputs": [
    {
     "data": {
      "image/png": "[encoded data removed]",
      "text/plain": [
       "<Figure size 640x480 with 1 Axes>"
      ]
     },
     "metadata": {},
     "output_type": "display_data"
    },
    {
     "data": {
      "text/plain": [
       "<ggplot: (-9223372036552306912)>"
      ]
     },
     "execution_count": 8,
     "metadata": {},
     "output_type": "execute_result"
    }
   ],
   "source": [
    "import plotnine as p9\n",
    "#Set plot aesthetics:\n",
    "p9.theme_set(p9.theme_classic())\n",
    "\n",
    "\n",
    "def sort_df(df, var_col, val_col=\"value\", ascending=False):\n",
    "    if len(set(var_col))<len(df):\n",
    "        df_temp = df.groupby(var_col, as_index=False).sum()\n",
    "        var_ordered = df_temp[var_col][df_temp[val_col].sort_values(ascending=ascending).index.tolist()] \n",
    "    else:\n",
    "        var_ordered = df[var_col][df[val_col].sort_values(ascending=ascending).index.tolist()]    \n",
    "    df[var_col] = pd.Categorical(df[var_col], categories=list(reversed(list(var_ordered))), ordered=True)\n",
    "    return(df)\n",
    "skills_summary_df = sort_df(skills_summary_df, var_col=\"attribute\")\n",
    "skills_summary_df[\"type\"] = pd.Categorical(skills_summary_df[\"type\"])\n",
    "\n",
    "skills_summary_df[\"type\"] = skills_summary_df[\"type\"].cat.reorder_categories([\"Requirements\", \"Assets\"])\n",
    "\n",
    "(p9.ggplot(skills_summary_df, p9.aes('attribute', 'value', fill='variable')) + \n",
    " p9.geom_col() +\n",
    " p9.coord_flip() +\n",
    " p9.scale_fill_discrete(guide=False)\n",
    ")\n",
    "#skills_summary_df[\"type\"]\n",
    "\n"
   ]
  },
  {
   "cell_type": "markdown",
   "metadata": {},
   "source": [
    "This graph above is real ugly, but it does show that our code is in general working"
   ]
  },
  {
   "cell_type": "code",
   "execution_count": 15,
   "metadata": {},
   "outputs": [
    {
     "name": "stderr",
     "output_type": "stream",
     "text": [
      "/Users/Tim/anaconda3/lib/python3.6/site-packages/plotnine/ggplot.py:729: PlotnineWarning: Saving 5 x 5 in image.\n",
      "  from_inches(height, units), units), PlotnineWarning)\n",
      "/Users/Tim/anaconda3/lib/python3.6/site-packages/plotnine/ggplot.py:730: PlotnineWarning: Filename: lang_plot.png\n",
      "  warn('Filename: {}'.format(filename), PlotnineWarning)\n"
     ]
    },
    {
     "data": {
      "image/png": "[encoded data removed]",
      "text/plain": [
       "<Figure size 500x500 with 2 Axes>"
      ]
     },
     "metadata": {},
     "output_type": "display_data"
    },
    {
     "data": {
      "text/plain": [
       "<ggplot: (304722226)>"
      ]
     },
     "execution_count": 15,
     "metadata": {},
     "output_type": "execute_result"
    }
   ],
   "source": [
    "#Languages\n",
    "languages = [\"R\", \"sql\", \"python\", \"java\", \"scala\", \"C\", \"sas\"]\n",
    "\n",
    "lang_clean = {\"sql\": \"SQL\",\n",
    "             \"python\": \"Python\",\n",
    "             \"R\": \"R\",\n",
    "             \"java\": \"Java\",\n",
    "             \"scala\": \"Scala\",\n",
    "             \"C\": \"C\",\n",
    "             \"sas\": \"SAS\"}\n",
    "\n",
    "skills_summary_lang = skills_summary_df[skills_summary_df.attribute.isin(languages)]\n",
    "skills_summary_lang = skills_summary_lang.replace(to_replace=lang_clean)\n",
    "skills_summary_lang = sort_df(skills_summary_lang, var_col=\"attribute\")\n",
    "\n",
    "\n",
    "lang_plot = (p9.ggplot(skills_summary_lang, p9.aes('attribute', 'value', fill='type', show_legend=False)) + \n",
    " p9.geom_col() + \n",
    " p9.coord_flip() + \n",
    " p9.scale_y_continuous(expand=[0,0]) + \n",
    " p9.labs(y=\"Frequency\", x=\"Language\", fill=\"\") +\n",
    " p9.scale_fill_brewer(palette=\"Blues\") +\n",
    " p9.facet_wrap('~type')\n",
    ")\n",
    "lang_plot.save(filename = 'lang_plot.png', height=5, width=5, units = 'in', dpi=1000)\n",
    "lang_plot"
   ]
  },
  {
   "cell_type": "markdown",
   "metadata": {},
   "source": []
  },
  {
   "cell_type": "code",
   "execution_count": 17,
   "metadata": {},
   "outputs": [
    {
     "name": "stderr",
     "output_type": "stream",
     "text": [
      "/Users/Tim/anaconda3/lib/python3.6/site-packages/plotnine/ggplot.py:729: PlotnineWarning: Saving 5 x 5 in image.\n",
      "  from_inches(height, units), units), PlotnineWarning)\n",
      "/Users/Tim/anaconda3/lib/python3.6/site-packages/plotnine/ggplot.py:730: PlotnineWarning: Filename: soft_plot.png\n",
      "  warn('Filename: {}'.format(filename), PlotnineWarning)\n"
     ]
    },
    {
     "data": {
      "image/png": "[encoded data removed]",
      "text/plain": [
       "<Figure size 500x500 with 1 Axes>"
      ]
     },
     "metadata": {},
     "output_type": "display_data"
    },
    {
     "data": {
      "text/plain": [
       "<ggplot: (-9223372036550033941)>"
      ]
     },
     "execution_count": 17,
     "metadata": {},
     "output_type": "execute_result"
    }
   ],
   "source": [
    "\n",
    "programs = [\"tableau\", \"docker\", \"bigquery\", \"jira\", \"spark\", \"hadoop\"]\n",
    "\n",
    "prog_clean = {\"tableau\": \"Tableau\",\n",
    "             \"docker\": \"Docker\",\n",
    "             \"bigquery\": \"Google BigQuery\",\n",
    "             \"jira\" : \"Jira\",\n",
    "             \"spark\": \"Spark\",\n",
    "             \"hadoop\": \"Hadoop\"}\n",
    "\n",
    "skills_summary_prog = skills_summary_df[skills_summary_df.attribute.isin(programs)]\n",
    "skills_summary_prog = skills_summary_prog.replace(to_replace=prog_clean)\n",
    "\n",
    "skills_summary_prog = sort_df(skills_summary_prog, var_col=\"attribute\")\n",
    "\n",
    "soft_plot= (p9.ggplot(skills_summary_prog, p9.aes('attribute', 'value', fill='type', show_legend=False)) + \n",
    " p9.geom_col() + \n",
    " p9.coord_flip() + \n",
    " p9.scale_y_continuous(expand=[0,0]) + \n",
    " p9.labs(y=\"Frequency\", x=\"Program\", fill=\"\") +\n",
    " p9.scale_fill_brewer(palette= \"Greens\")\n",
    ")\n",
    "soft_plot.save(filename = 'soft_plot.png', height=5, width=5, units = 'in', dpi=1000)\n",
    "soft_plot\n"
   ]
  },
  {
   "cell_type": "code",
   "execution_count": 20,
   "metadata": {},
   "outputs": [
    {
     "name": "stderr",
     "output_type": "stream",
     "text": [
      "/Users/Tim/anaconda3/lib/python3.6/site-packages/plotnine/ggplot.py:729: PlotnineWarning: Saving 5 x 5 in image.\n",
      "  from_inches(height, units), units), PlotnineWarning)\n",
      "/Users/Tim/anaconda3/lib/python3.6/site-packages/plotnine/ggplot.py:730: PlotnineWarning: Filename: edu_plot.png\n",
      "  warn('Filename: {}'.format(filename), PlotnineWarning)\n"
     ]
    },
    {
     "data": {
      "image/png": "[encoded data removed]",
      "text/plain": [
       "<Figure size 500x500 with 1 Axes>"
      ]
     },
     "metadata": {},
     "output_type": "display_data"
    },
    {
     "data": {
      "text/plain": [
       "<ggplot: (-9223372036543083155)>"
      ]
     },
     "execution_count": 20,
     "metadata": {},
     "output_type": "execute_result"
    }
   ],
   "source": [
    "#Education basic\n",
    "\n",
    "education = [\"bachelor\", \"master\", \"phd\"]\n",
    "\n",
    "education_clean = {\"bachelor\": \"Bachelor's\",\n",
    "             \"master\": \"Master's\",\n",
    "             \"phd\": \"PhD\"}\n",
    "\n",
    "skills_summary_edu = skills_summary_df[skills_summary_df.attribute.isin(education)]\n",
    "skills_summary_edu = skills_summary_edu.replace(to_replace=education_clean)\n",
    "\n",
    "edu_plot = (p9.ggplot(skills_summary_edu, p9.aes('attribute', 'value', fill='type', show_legend=False)) + \n",
    " p9.geom_col() + \n",
    " p9.coord_flip() + \n",
    " p9.scale_y_continuous(expand=[0,0]) + \n",
    " p9.labs(y=\"Frequency\", x=\"Education\", fill=\"\") +\n",
    " p9.scale_fill_brewer(palette= \"Reds\")\n",
    ")\n",
    "edu_plot.save(filename = 'edu_plot.png', height=5, width=5, units = 'in', dpi=1000)\n",
    "edu_plot"
   ]
  },
  {
   "cell_type": "code",
   "execution_count": 21,
   "metadata": {},
   "outputs": [
    {
     "name": "stderr",
     "output_type": "stream",
     "text": [
      "/Users/Tim/anaconda3/lib/python3.6/site-packages/plotnine/ggplot.py:729: PlotnineWarning: Saving 5 x 5 in image.\n",
      "  from_inches(height, units), units), PlotnineWarning)\n",
      "/Users/Tim/anaconda3/lib/python3.6/site-packages/plotnine/ggplot.py:730: PlotnineWarning: Filename: know_plot.png\n",
      "  warn('Filename: {}'.format(filename), PlotnineWarning)\n"
     ]
    },
    {
     "data": {
      "image/png": "[encoded data removed]",
      "text/plain": [
       "<Figure size 500x500 with 1 Axes>"
      ]
     },
     "metadata": {},
     "output_type": "display_data"
    },
    {
     "data": {
      "text/plain": [
       "<ggplot: (311747676)>"
      ]
     },
     "execution_count": 21,
     "metadata": {},
     "output_type": "execute_result"
    }
   ],
   "source": [
    "\n",
    "knowledge = [\"CS\", \"AI\", \"stats\", \"programming\", \"ML\"]\n",
    "\n",
    "knowledge_clean = {\"AI\": \"AI\",\n",
    "             \"CS\": \"Computer Science\",\n",
    "             \"stats\": \"Statistics\",\n",
    "                \"programming\": \"Programming\"}\n",
    "\n",
    "skills_summary_know = skills_summary_df[skills_summary_df.attribute.isin(knowledge)]\n",
    "skills_summary_know = skills_summary_know.replace(to_replace=knowledge_clean)\n",
    "skills_summary_know = sort_df(skills_summary_know, var_col=\"attribute\")\n",
    "\n",
    "know_plot = (p9.ggplot(skills_summary_know, p9.aes('attribute', 'value', fill='type', show_legend=False)) + \n",
    " p9.geom_col() + \n",
    " p9.coord_flip() + \n",
    " p9.scale_y_continuous(expand=[0,0]) + \n",
    " p9.labs(y=\"Frequency\", x=\"Education\", fill=\"\") +\n",
    " p9.scale_fill_brewer(palette= \"YlOrRd\")\n",
    ")\n",
    "know_plot.save(filename = 'know_plot.png', height=5, width=5, units = 'in', dpi=1000)\n",
    "know_plot"
   ]
  },
  {
   "cell_type": "code",
   "execution_count": 22,
   "metadata": {},
   "outputs": [
    {
     "name": "stderr",
     "output_type": "stream",
     "text": [
      "/Users/Tim/anaconda3/lib/python3.6/site-packages/plotnine/ggplot.py:729: PlotnineWarning: Saving 5 x 5 in image.\n",
      "  from_inches(height, units), units), PlotnineWarning)\n",
      "/Users/Tim/anaconda3/lib/python3.6/site-packages/plotnine/ggplot.py:730: PlotnineWarning: Filename: niche_plot.png\n",
      "  warn('Filename: {}'.format(filename), PlotnineWarning)\n"
     ]
    },
    {
     "data": {
      "image/png": "[encoded data removed]",
      "text/plain": [
       "<Figure size 500x500 with 1 Axes>"
      ]
     },
     "metadata": {},
     "output_type": "display_data"
    },
    {
     "data": {
      "text/plain": [
       "<ggplot: (302513058)>"
      ]
     },
     "execution_count": 22,
     "metadata": {},
     "output_type": "execute_result"
    }
   ],
   "source": [
    "niche = [\"cnn\", \"rnn\",  \"nlp\"]\n",
    "\n",
    "niche_clean = {\n",
    "             \"cnn\": \"CNN\",\n",
    "             \"rnn\": \"RNN\",\n",
    "                \"nlp\": \"NLP\"}\n",
    "def sort_df(df, var_col, val_col=\"value\", ascending=False):\n",
    "    if len(set(df[var_col]))<len(df):\n",
    "        df_temp = df.groupby(var_col, as_index=False).sum()\n",
    "        var_ordered = df_temp[var_col][df_temp[val_col].sort_values(ascending=ascending).index.tolist()] \n",
    "    else:\n",
    "        var_ordered = df[var_col][df[val_col].sort_values(ascending=ascending).index.tolist()]    \n",
    "    df[var_col] = pd.Categorical(df[var_col], categories=list(reversed(list(var_ordered))), ordered=True)\n",
    "    return(df)\n",
    "\n",
    "skills_summary_niche = skills_summary_df[skills_summary_df.attribute.isin(niche)]\n",
    "skills_summary_niche = skills_summary_niche.replace(to_replace=niche_clean)\n",
    "skills_summary_niche = sort_df(skills_summary_niche, var_col=\"attribute\")\n",
    "\n",
    "niche_plot = (p9.ggplot(skills_summary_niche, p9.aes('attribute', 'value', fill='type', show_legend=False)) + \n",
    " p9.geom_col() + \n",
    " p9.coord_flip() + \n",
    " p9.scale_y_continuous(expand=[0,0]) + \n",
    " p9.labs(y=\"Frequency\", x=\"Niche knowledge areas\", fill=\"\") +\n",
    " p9.scale_fill_brewer(palette=\"Purples\")\n",
    ")\n",
    "niche_plot.save(filename = 'niche_plot.png', height=5, width=5, units = 'in', dpi=1000)\n",
    "niche_plot"
   ]
  },
  {
   "cell_type": "markdown",
   "metadata": {},
   "source": [
    "Mistakes I made:\n",
    "- I originally didn't sort the job postings by some feature (i.e., by date and so 'relevance' could change over time)\n",
    "- My original code was only giving me job postings from one page even though I was looping over multiple. When I test the links individually, they worked. I fixed this by switching to selenium and not trying to go to the new pages as separate requests but by loading more jobs on their infinite scroll system.\n",
    "- I had to go back to redefine some functions to make sure they were returning the right information, and I wanted to know more about where the information (e.g., skill, language or topic area) was coming from in the job posting. \n",
    "- Probably lots more. \n"
   ]
  },
  {
   "cell_type": "markdown",
   "metadata": {
    "collapsed": true,
    "jupyter": {
     "outputs_hidden": true
    }
   },
   "source": [
    "Other things that I could do:\n",
    "1. Analyze by industry or domain \n",
    "1. Match up these jobs with estimated salaries from Glass Door\n"
   ]
  },
  {
   "cell_type": "code",
   "execution_count": null,
   "metadata": {
    "collapsed": true,
    "jupyter": {
     "outputs_hidden": true
    }
   },
   "outputs": [],
   "source": []
  }
 ],
 "metadata": {
  "anaconda-cloud": {},
  "kernelspec": {
   "display_name": "Python 3",
   "language": "python",
   "name": "python3"
  },
  "language_info": {
   "codemirror_mode": {
    "name": "ipython",
    "version": 3
   },
   "file_extension": ".py",
   "mimetype": "text/x-python",
   "name": "python",
   "nbconvert_exporter": "python",
   "pygments_lexer": "ipython3",
   "version": "3.6.2"
  }
 },
 "nbformat": 4,
 "nbformat_minor": 4
}
